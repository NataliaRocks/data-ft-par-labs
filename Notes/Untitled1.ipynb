{
 "cells": [
  {
   "cell_type": "markdown",
   "metadata": {},
   "source": [
    "Consider an array/list of sheep where some sheep may be missing from their place. We need a function that counts the number of sheep present in the array (true means present). Answer should be 17 https://www.codewars.com/kata/54edbc7200b811e956000556 "
   ]
  },
  {
   "cell_type": "code",
   "execution_count": 11,
   "metadata": {},
   "outputs": [
    {
     "name": "stdout",
     "output_type": "stream",
     "text": [
      "True\n"
     ]
    },
    {
     "ename": "AttributeError",
     "evalue": "'int' object has no attribute 'count'",
     "output_type": "error",
     "traceback": [
      "\u001b[0;31m---------------------------------------------------------------------------\u001b[0m",
      "\u001b[0;31mAttributeError\u001b[0m                            Traceback (most recent call last)",
      "\u001b[0;32m<ipython-input-11-fdf9a26ece26>\u001b[0m in \u001b[0;36m<module>\u001b[0;34m\u001b[0m\n\u001b[1;32m      1\u001b[0m \u001b[0mnumber_of_sheeps\u001b[0m \u001b[0;34m=\u001b[0m \u001b[0;36m17\u001b[0m\u001b[0;34m\u001b[0m\u001b[0;34m\u001b[0m\u001b[0m\n\u001b[1;32m      2\u001b[0m \u001b[0mprint\u001b[0m\u001b[0;34m(\u001b[0m\u001b[0;36m17\u001b[0m \u001b[0;32min\u001b[0m \u001b[0;34m[\u001b[0m\u001b[0mnumber_of_sheeps\u001b[0m\u001b[0;34m]\u001b[0m\u001b[0;34m)\u001b[0m\u001b[0;34m\u001b[0m\u001b[0;34m\u001b[0m\u001b[0m\n\u001b[0;32m----> 3\u001b[0;31m \u001b[0mnumber_of_sheeps\u001b[0m\u001b[0;34m.\u001b[0m\u001b[0mcount\u001b[0m\u001b[0;34m(\u001b[0m\u001b[0;34m)\u001b[0m\u001b[0;34m\u001b[0m\u001b[0;34m\u001b[0m\u001b[0m\n\u001b[0m\u001b[1;32m      4\u001b[0m \u001b[0;34m\u001b[0m\u001b[0m\n\u001b[1;32m      5\u001b[0m \u001b[0;31m#def count_sheep():\u001b[0m\u001b[0;34m\u001b[0m\u001b[0;34m\u001b[0m\u001b[0;34m\u001b[0m\u001b[0m\n",
      "\u001b[0;31mAttributeError\u001b[0m: 'int' object has no attribute 'count'"
     ]
    }
   ],
   "source": [
    "def count_sheep(count):\n",
    "    \"\"\"this functions compares the number of sheeps expected with the total sheeps present\"\"\"\n",
    "number_of_sheeps = 30\n",
    "rain = False\n",
    "traffic = True\n",
    " \n",
    "if (rain == True) | (traffic == True):\n",
    "    if (rain == True) & (traffic == True):\n",
    "        total_commute = commute + 15 + 20\n",
    "    elif (rain == True) & (traffic == False):\n",
    "        total_commute = commute + 15\n",
    "    elif (rain == False) & (traffic == True):\n",
    "        total_commute = commute + 20\n",
    "else:\n",
    "    total_commute = commute\n",
    " \n",
    "print(\"Your total commute time is expected to be\", total_commute, \"minutes.\")\n",
    "    \n",
    "if number_of_sheeps == True:\n",
    "    print(\"Everyone is here\")\n",
    "elif number_of_sheeps > 10:\n",
    "    print(\"Some are missing\")\n",
    "else:\n",
    "    print(\"Go and see yourself, there may be real problems\")\n",
    "\n",
    "#def count_sheep():\n",
    "    #for i in i count.count_sheep \n",
    "    \n",
    "    #if value.count_sheep - value.number_of_sheeps==True\n",
    "    #print('Everyone is here')\n",
    "    #elif value.count_sheep-value.number_of_sheeps==False\n",
    "    #print('Some are missing')"
   ]
  },
  {
   "cell_type": "code",
   "execution_count": null,
   "metadata": {},
   "outputs": [],
   "source": []
  },
  {
   "cell_type": "code",
   "execution_count": null,
   "metadata": {},
   "outputs": [],
   "source": [
    "#wrapping it up\n",
    "contact_list={'Huey':711111, 'Dewey':722222, 'Louis':733333}\n",
    "received_calls=[]\n",
    "made_calls=[]\n",
    "sms_sent={}\n",
    "sms_received={}\n",
    "galery_of_photos=[]\n",
    "#add a contact\n",
    "def add_contact(name, number, contacts=contact_list):\n",
    "    \"\"\"\n",
    "    this function adds a new entry to the contact_list\n",
    "    inputs:\n",
    "    name - the name of a contact\n",
    "    number - the phone number of a contact\n",
    "    contacts - optional argument that represents the contact list\n",
    "    Output:\n",
    "    updated contact_list\n",
    "    \"\"\"\n",
    "    flag=True\n",
    "    while flag:\n",
    "        if name in contacts.keys():\n",
    "            print('Sorry, but the name is occupied already')\n",
    "            name=input('Please input a new name in the field below\\n')\n",
    "        else:\n",
    "            contacts.update({name:number})\n",
    "            flag=False\n",
    "            print('Thank you, the new contact is stored')\n",
    "    return contacts\n",
    "\n",
    "#remove a contact\n",
    "def remove_a_contact(name, contacts=contact_list):\n",
    "    if name in contacts.keys():\n",
    "        del contacts[name]\n",
    "        print('Operation finished successfully')\n",
    "    else:\n",
    "        print('Sorry, you don\\'t know this name')\n",
    "    return contacts\n",
    "\n",
    "\n",
    "#phone calls\n",
    "def make_a_call(number, calls=made_calls, contacts=contact_list):\n",
    "    if number in contacts.values(): #add a name instead of number, assuming numbers are unique\n",
    "        name=[i for i in contacts if contacts[i]==number][0]\n",
    "            #[i for i,j in contacts.items() if j==number][0] could also work\n",
    "    else:\n",
    "        name=str(number)\n",
    "    print(f'Dialing {name}...')\n",
    "    calls.append(name)\n",
    "    return calls\n",
    "#phone calls\n",
    "def receive_a_call(number, calls=received_calls, contacts=contact_list):\n",
    "    if number in contacts.values(): #add a name instead of number, assuming numbers are unique\n",
    "        name=[i for i in contacts if contacts[i]==number][0]\n",
    "            #[i for i,j in contacts.items() if j==number][0] could also work\n",
    "    else:\n",
    "        name=str(number)\n",
    "    print(f'{name} is calling...')\n",
    "    calls.append(name)\n",
    "    return calls\n",
    "#send an sms\n",
    "def send_an_sms(number, text, sms=sms_sent, contacts=contact_list):\n",
    "    if number in contacts.values():\n",
    "        name=[i for i,j in contacts.items() if j==number][0]\n",
    "    else:\n",
    "        name=str(number)\n",
    "    print(f'Write a message to {name}:\\n\\n{text}')\n",
    "    new_index=len(sms)+1\n",
    "    sms[new_index]={'name':name, 'text':text}\n",
    "    return sms\n",
    "#make a photo\n",
    "def make_a_photo():\n",
    "    global galery_of_photos #now all the changes we apply to this variable in the function will be stored in the variable outside the function\n",
    "    new_index=len(galery_of_photos)+1\n",
    "    galery_of_photos.append(f'{new_index}.jpg')\n",
    "    return None\n"
   ]
  },
  {
   "cell_type": "markdown",
   "metadata": {},
   "source": [
    "Take an array and remove every second element from the array. Always keep the first element and start removing with the next element.\n",
    "\n",
    "Example: my_list = ['Keep', 'Remove', 'Keep', 'Remove', 'Keep', ...]"
   ]
  },
  {
   "cell_type": "code",
   "execution_count": null,
   "metadata": {},
   "outputs": [],
   "source": [
    "my_list=['Keep', 'Remove', 'Keep', 'Remove', 'Keep']\n",
    "def take_second_off"
   ]
  },
  {
   "cell_type": "markdown",
   "metadata": {},
   "source": [
    "Given a random non-negative number, you have to return the digits of this number within an array in reverse order. https://www.codewars.com/kata/5583090cbe83f4fd8c000051\n"
   ]
  },
  {
   "cell_type": "code",
   "execution_count": null,
   "metadata": {},
   "outputs": [],
   "source": [
    "\n",
    "def returnreversord([],,)\n"
   ]
  },
  {
   "cell_type": "code",
   "execution_count": 60,
   "metadata": {},
   "outputs": [
    {
     "name": "stdout",
     "output_type": "stream",
     "text": [
      "Stephanie\n"
     ]
    }
   ],
   "source": [
    "num_list = [34, 12, 93, 783, 330, 896, 1, 55]\n",
    "#total = \n",
    "print(a)\n",
    "#for i in num_list:\n",
    "    #total += i\n",
    "    #print(\"Total is currently\", total)"
   ]
  },
  {
   "cell_type": "code",
   "execution_count": 17,
   "metadata": {},
   "outputs": [
    {
     "name": "stdout",
     "output_type": "stream",
     "text": [
      "range(0, 10)\n"
     ]
    }
   ],
   "source": [
    "print(range(0,10))"
   ]
  }
 ],
 "metadata": {
  "kernelspec": {
   "display_name": "Python 3",
   "language": "python",
   "name": "python3"
  },
  "language_info": {
   "codemirror_mode": {
    "name": "ipython",
    "version": 3
   },
   "file_extension": ".py",
   "mimetype": "text/x-python",
   "name": "python",
   "nbconvert_exporter": "python",
   "pygments_lexer": "ipython3",
   "version": "3.8.5"
  }
 },
 "nbformat": 4,
 "nbformat_minor": 4
}
