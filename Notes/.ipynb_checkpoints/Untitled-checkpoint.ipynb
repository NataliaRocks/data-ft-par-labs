{
 "cells": [
  {
   "cell_type": "code",
   "execution_count": null,
   "metadata": {},
   "outputs": [],
   "source": [
    "Programming paradigmas\n",
    "______________________\n",
    "\n",
    "Imperative programming\n",
    "    Procedural \n",
    "    Object oriented\n",
    "As a receipe of omelet, need\n",
    "    \n",
    "Declarative promgramming\n",
    "    Functionnal\n",
    ">answers the wuestion what? What to solve. \n",
    "Need to declare outputs an'd' what do.\n",
    "I dont really care about how many lines I use.\n",
    "\n"
   ]
  },
  {
   "cell_type": "code",
   "execution_count": null,
   "metadata": {},
   "outputs": [],
   "source": [
    "word ='laptop'\n",
    "\n",
    "i=0\n",
    "for i in word:\n",
    "    i+=1\n",
    "    print(f'the length of the word {word} is {1}')"
   ]
  },
  {
   "cell_type": "code",
   "execution_count": null,
   "metadata": {},
   "outputs": [],
   "source": [
    "def len_of_word(word):\n",
    "    l=0\n",
    "    for i in word:\n",
    "        l+=1\n",
    "        \n",
    "    print(f'the lenght of the word {word} is {1}')\n",
    "    return None\n",
    "len_of_word('computer')\n"
   ]
  },
  {
   "cell_type": "markdown",
   "metadata": {},
   "source": [
    "# Mobile Phone - functionnal programming\n",
    "    I need to programm the usual functions :\n",
    "        "
   ]
  },
  {
   "cell_type": "code",
   "execution_count": null,
   "metadata": {},
   "outputs": [],
   "source": []
  },
  {
   "cell_type": "markdown",
   "metadata": {},
   "source": [
    "````python\n",
    "def name_of_function(mandatory_arguments, optional_arguments=default_value):\n",
    "    \"\"\"documentation\"\"\"\n",
    "    statement :what the function will do, line after line\n",
    "        return the output\n"
   ]
  },
  {
   "cell_type": "code",
   "execution_count": 26,
   "metadata": {},
   "outputs": [
    {
     "ename": "SyntaxError",
     "evalue": "invalid syntax (<ipython-input-26-19bdaf7110fb>, line 23)",
     "output_type": "error",
     "traceback": [
      "\u001b[0;36m  File \u001b[0;32m\"<ipython-input-26-19bdaf7110fb>\"\u001b[0;36m, line \u001b[0;32m23\u001b[0m\n\u001b[0;31m    if name in contact_list.keys()\u001b[0m\n\u001b[0m                                  ^\u001b[0m\n\u001b[0;31mSyntaxError\u001b[0m\u001b[0;31m:\u001b[0m invalid syntax\n"
     ]
    }
   ],
   "source": [
    "contact_list={'Huey':711111, 'Dewey':722222, 'Louis':733333}\n",
    "received_calls=[] # a list because we want to be able to add new\n",
    "made_calls=[]\n",
    "sms_sent={}\n",
    "sms_received={}\n",
    "galery_of_photos=[]\n",
    "\n",
    "\n",
    "def add_contact(name, number, contact_list=contact_list):\n",
    "    \"\"\"\n",
    "    This function adds a new entry to the contact_list\n",
    "    imputs:\n",
    "    name - the name of the contact\n",
    "    number - the phone number\n",
    "    contacts- optional arguments that represent the contact list\n",
    "    \n",
    "    Output:\n",
    "    updated contact-list\n",
    "    \"\"\"\n",
    "    #to prevent double contact name\n",
    "    flag=True\n",
    "    while flag:\n",
    "        if name in contact_list.keys()\n",
    "            print('Sorry, but the name is occupied already')\n",
    "            name=imput('Please input a new name in the field below\\n')\n",
    "        else:\n",
    "            contact_list.update({name:number})\n",
    "            flag=False\n",
    "            print('Thank you, the new contact is stored')\n",
    "    return contact_list\n",
    "            \n",
    "    "
   ]
  },
  {
   "cell_type": "code",
   "execution_count": null,
   "metadata": {},
   "outputs": [],
   "source": [
    "add_contact('Launchpad MacQuack', 766666)\n"
   ]
  },
  {
   "cell_type": "code",
   "execution_count": 2,
   "metadata": {},
   "outputs": [
    {
     "name": "stdout",
     "output_type": "stream",
     "text": [
      "Object `add_contact` not found.\n"
     ]
    }
   ],
   "source": [
    "?add_contact"
   ]
  },
  {
   "cell_type": "code",
   "execution_count": 11,
   "metadata": {},
   "outputs": [
    {
     "ename": "SyntaxError",
     "evalue": "EOL while scanning string literal (<ipython-input-11-b4a22fa1c338>, line 7)",
     "output_type": "error",
     "traceback": [
      "\u001b[0;36m  File \u001b[0;32m\"<ipython-input-11-b4a22fa1c338>\"\u001b[0;36m, line \u001b[0;32m7\u001b[0m\n\u001b[0;31m    print('Sorry, you don\\'t know this name)\u001b[0m\n\u001b[0m                                            ^\u001b[0m\n\u001b[0;31mSyntaxError\u001b[0m\u001b[0;31m:\u001b[0m EOL while scanning string literal\n"
     ]
    }
   ],
   "source": [
    "#remove a contact: \n",
    "def remove_a_contact(name, contacts=contact_list):\n",
    "    if name in contacts.keys():\n",
    "        del contacts[name]\n",
    "        print('Operation finished successfully')\n",
    "    else:\n",
    "        print('Sorry, you don\\'t know this name)\n",
    "    return contacts"
   ]
  },
  {
   "cell_type": "code",
   "execution_count": 12,
   "metadata": {},
   "outputs": [
    {
     "name": "stdout",
     "output_type": "stream",
     "text": [
      "Object `remove_a_contact` not found.\n"
     ]
    }
   ],
   "source": [
    "?remove_a_contact\n"
   ]
  },
  {
   "cell_type": "code",
   "execution_count": 22,
   "metadata": {},
   "outputs": [
    {
     "ename": "IndentationError",
     "evalue": "expected an indented block (<ipython-input-22-520ceffcaed1>, line 6)",
     "output_type": "error",
     "traceback": [
      "\u001b[0;36m  File \u001b[0;32m\"<ipython-input-22-520ceffcaed1>\"\u001b[0;36m, line \u001b[0;32m6\u001b[0m\n\u001b[0;31m    name=[i for i,j in contacts.items() if j==number[0]]\u001b[0m\n\u001b[0m    ^\u001b[0m\n\u001b[0;31mIndentationError\u001b[0m\u001b[0;31m:\u001b[0m expected an indented block\n"
     ]
    }
   ],
   "source": [
    "# define a function for phone calls. One to receive and other to make calls\n",
    "def make_a_call(number, calls=made_calls, contacts=contact_list):\n",
    "    #to check a number is in a contact list\n",
    "    if number in contacts.values(): #add a name instead of number\n",
    "#[i for i in contacts if contacts[i]==number][0]\n",
    "    name=[i for i,j in contacts.items() if j==number[0]]\n",
    "    else\n",
    "    name=str(number)\n",
    "    print(f'Dialing {name}')\n",
    "    calls.append(name) # in order to save the name into calls\n",
    "    made_calls=make_a_call(73333)"
   ]
  },
  {
   "cell_type": "code",
   "execution_count": 30,
   "metadata": {},
   "outputs": [
    {
     "ename": "IndentationError",
     "evalue": "expected an indented block (<ipython-input-30-12a6dc53e459>, line 4)",
     "output_type": "error",
     "traceback": [
      "\u001b[0;36m  File \u001b[0;32m\"<ipython-input-30-12a6dc53e459>\"\u001b[0;36m, line \u001b[0;32m4\u001b[0m\n\u001b[0;31m    text=[i for i,j in contacts.list() if j==number[0]]\u001b[0m\n\u001b[0m    ^\u001b[0m\n\u001b[0;31mIndentationError\u001b[0m\u001b[0;31m:\u001b[0m expected an indented block\n"
     ]
    }
   ],
   "source": [
    "#Function to send a sms\n",
    "def send_an_sms(number, text, sms=sms_sent, contacts=contact_list):\n",
    "    if name in contacts.list(): #values()\n",
    "    text=[i for i,j in contacts.list() if j==number[0]]\n",
    "    else\n",
    "    name=str(text)\n",
    "    print(f'Recive message from {name})\n",
    "    new_indew=len(sms)+1\n",
    "    sms[new_index]={'name':name,'text':text}\n",
    "          #sms.append(text) # in order to save the name into calls\n",
    "    send_sms=sent_sms(73333)\n",
    "return sms"
   ]
  },
  {
   "cell_type": "code",
   "execution_count": 27,
   "metadata": {},
   "outputs": [
    {
     "ename": "NameError",
     "evalue": "name 'send_an_sms' is not defined",
     "output_type": "error",
     "traceback": [
      "\u001b[0;31m---------------------------------------------------------------------------\u001b[0m",
      "\u001b[0;31mNameError\u001b[0m                                 Traceback (most recent call last)",
      "\u001b[0;32m<ipython-input-27-709147f57c34>\u001b[0m in \u001b[0;36m<module>\u001b[0;34m\u001b[0m\n\u001b[0;32m----> 1\u001b[0;31m \u001b[0msend_an_sms\u001b[0m\u001b[0;34m(\u001b[0m\u001b[0;36m711111\u001b[0m\u001b[0;34m,\u001b[0m\u001b[0;34m'Hi Huey!'\u001b[0m\u001b[0;34m)\u001b[0m\u001b[0;34m\u001b[0m\u001b[0;34m\u001b[0m\u001b[0m\n\u001b[0m",
      "\u001b[0;31mNameError\u001b[0m: name 'send_an_sms' is not defined"
     ]
    }
   ],
   "source": [
    "send_an_sms(711111,'Hi Huey!')"
   ]
  },
  {
   "cell_type": "code",
   "execution_count": 29,
   "metadata": {},
   "outputs": [
    {
     "data": {
      "text/plain": [
       "datetime.datetime(2021, 2, 4, 10, 45, 46, 258340)"
      ]
     },
     "execution_count": 29,
     "metadata": {},
     "output_type": "execute_result"
    }
   ],
   "source": [
    "#to save more than 1 sms, our key sould be date+dime for my dictionnary, il \n",
    "from datetime import datetime\n",
    "datetime.now()\n"
   ]
  },
  {
   "cell_type": "code",
   "execution_count": 32,
   "metadata": {},
   "outputs": [
    {
     "ename": "IndentationError",
     "evalue": "unexpected indent (<ipython-input-32-debeeeacbd5f>, line 5)",
     "output_type": "error",
     "traceback": [
      "\u001b[0;36m  File \u001b[0;32m\"<ipython-input-32-debeeeacbd5f>\"\u001b[0;36m, line \u001b[0;32m5\u001b[0m\n\u001b[0;31m    new_index=len(galery_of_photos)+1\u001b[0m\n\u001b[0m    ^\u001b[0m\n\u001b[0;31mIndentationError\u001b[0m\u001b[0;31m:\u001b[0m unexpected indent\n"
     ]
    }
   ],
   "source": [
    "#Make a photo\n",
    "def make_a_photo():\n",
    "    global galery_of_photos #now allchanges we apply to this variable in the function, \n",
    "                            #will be stored in the variable aoutside the function\n",
    "        new_index=len(galery_of_photos)+1\n",
    "        galery_of_photos.apprend(f'{new_index}.jpg)\n",
    "        return None"
   ]
  },
  {
   "cell_type": "code",
   "execution_count": 35,
   "metadata": {},
   "outputs": [],
   "source": [
    "#wrapping it up\n",
    "contact_list={'Huey':711111, 'Dewey':722222, 'Louis':733333}\n",
    "received_calls=[]\n",
    "made_calls=[]\n",
    "sms_sent={}\n",
    "sms_received={}\n",
    "galery_of_photos=[]\n",
    "#add a contact\n",
    "def add_contact(name, number, contacts=contact_list):\n",
    "    \"\"\"\n",
    "    this function adds a new entry to the contact_list\n",
    "    inputs:\n",
    "    name - the name of a contact\n",
    "    number - the phone number of a contact\n",
    "    contacts - optional argument that represents the contact list\n",
    "    Output:\n",
    "    updated contact_list\n",
    "    \"\"\"\n",
    "    flag=True\n",
    "    while flag:\n",
    "        if name in contacts.keys():\n",
    "            print('Sorry, but the name is occupied already')\n",
    "            name=input('Please input a new name in the field below\\n')\n",
    "        else:\n",
    "            contacts.update({name:number})\n",
    "            flag=False\n",
    "            print('Thank you, the new contact is stored')\n",
    "    return contacts\n",
    "\n",
    "#remove a contact\n",
    "def remove_a_contact(name, contacts=contact_list):\n",
    "    if name in contacts.keys():\n",
    "        del contacts[name]\n",
    "        print('Operation finished successfully')\n",
    "    else:\n",
    "        print('Sorry, you don\\'t know this name')\n",
    "    return contacts\n",
    "\n",
    "\n",
    "#phone calls\n",
    "def make_a_call(number, calls=made_calls, contacts=contact_list):\n",
    "    if number in contacts.values(): #add a name instead of number, assuming numbers are unique\n",
    "        name=[i for i in contacts if contacts[i]==number][0]\n",
    "            #[i for i,j in contacts.items() if j==number][0] could also work\n",
    "    else:\n",
    "        name=str(number)\n",
    "    print(f'Dialing {name}...')\n",
    "    calls.append(name)\n",
    "    return calls\n",
    "#phone calls\n",
    "def receive_a_call(number, calls=received_calls, contacts=contact_list):\n",
    "    if number in contacts.values(): #add a name instead of number, assuming numbers are unique\n",
    "        name=[i for i in contacts if contacts[i]==number][0]\n",
    "            #[i for i,j in contacts.items() if j==number][0] could also work\n",
    "    else:\n",
    "        name=str(number)\n",
    "    print(f'{name} is calling...')\n",
    "    calls.append(name)\n",
    "    return calls\n",
    "#send an sms\n",
    "def send_an_sms(number, text, sms=sms_sent, contacts=contact_list):\n",
    "    if number in contacts.values():\n",
    "        name=[i for i,j in contacts.items() if j==number][0]\n",
    "    else:\n",
    "        name=str(number)\n",
    "    print(f'Write a message to {name}:\\n\\n{text}')\n",
    "    new_index=len(sms)+1\n",
    "    sms[new_index]={'name':name, 'text':text}\n",
    "    return sms\n",
    "#make a photo\n",
    "def make_a_photo():\n",
    "    global galery_of_photos #now all the changes we apply to this variable in the function will be stored in the variable outside the function\n",
    "    new_index=len(galery_of_photos)+1\n",
    "    galery_of_photos.append(f'{new_index}.jpg')\n",
    "    return None\n"
   ]
  },
  {
   "cell_type": "markdown",
   "metadata": {},
   "source": [
    "Consider an array/list of sheep where some sheep may be missing from their place. We need a function that counts the number of sheep present in the array (true means present). Answer should be 17 https://www.codewars.com/kata/54edbc7200b811e956000556 "
   ]
  },
  {
   "cell_type": "code",
   "execution_count": 50,
   "metadata": {},
   "outputs": [
    {
     "ename": "TypeError",
     "evalue": "count() takes exactly one argument (0 given)",
     "output_type": "error",
     "traceback": [
      "\u001b[0;31m---------------------------------------------------------------------------\u001b[0m",
      "\u001b[0;31mTypeError\u001b[0m                                 Traceback (most recent call last)",
      "\u001b[0;32m<ipython-input-50-8decb4bb4f05>\u001b[0m in \u001b[0;36m<module>\u001b[0;34m\u001b[0m\n\u001b[1;32m      1\u001b[0m number_of_sheeps=([True,  True,  True,  False,  True,  True,  True,  True ,  True,  False, True,  False,  True,  False, False, True ,\n\u001b[1;32m      2\u001b[0m                    True,  True,  True,  True ,  False, False, True,  True])\n\u001b[0;32m----> 3\u001b[0;31m \u001b[0mnumber_of_sheeps\u001b[0m\u001b[0;34m.\u001b[0m\u001b[0mcount\u001b[0m\u001b[0;34m(\u001b[0m\u001b[0;34m)\u001b[0m\u001b[0;34m\u001b[0m\u001b[0;34m\u001b[0m\u001b[0m\n\u001b[0m\u001b[1;32m      4\u001b[0m \u001b[0;34m\u001b[0m\u001b[0m\n\u001b[1;32m      5\u001b[0m \u001b[0;34m\u001b[0m\u001b[0m\n",
      "\u001b[0;31mTypeError\u001b[0m: count() takes exactly one argument (0 given)"
     ]
    }
   ],
   "source": [
    "number_of_sheeps=([True,  True,  True,  False,  True,  True,  True,  True ,  True,  False, True,  False,  True,  False, False, True ,\n",
    "                   True,  True,  True,  True ,  False, False, True,  True])\n",
    "number_of_sheeps.count()\n",
    "\n",
    "\n",
    "#def count_sheep():\n",
    "    #for i in i count.count_sheep \n",
    "    \n",
    "    #if value.count_sheep - value.number_of_sheeps==True\n",
    "    #print('Everyone is here')\n",
    "    #elif value.count_sheep-value.number_of_sheeps==False\n",
    "    #print('Some are missing')"
   ]
  }
 ],
 "metadata": {
  "kernelspec": {
   "display_name": "Python 3",
   "language": "python",
   "name": "python3"
  },
  "language_info": {
   "codemirror_mode": {
    "name": "ipython",
    "version": 3
   },
   "file_extension": ".py",
   "mimetype": "text/x-python",
   "name": "python",
   "nbconvert_exporter": "python",
   "pygments_lexer": "ipython3",
   "version": "3.8.5"
  }
 },
 "nbformat": 4,
 "nbformat_minor": 4
}
