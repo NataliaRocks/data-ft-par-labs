{
 "cells": [
  {
   "cell_type": "code",
   "execution_count": null,
   "metadata": {},
   "outputs": [],
   "source": [
    "#REGEX\n",
    "txt = \"In the begining of 2020 nobody could expect what's gonna happen next.\"\n",
    "txt\n"
   ]
  },
  {
   "cell_type": "code",
   "execution_count": null,
   "metadata": {},
   "outputs": [],
   "source": [
    "# To extract with a for loop the date\n",
    "#[i for i in txt.split() if i.isdigit()]\n",
    "#''.join([i for i in txt if i.isdigit()])\n",
    "number=''\n",
    "lst=[]\n",
    "for i in txt:\n",
    "    if i.isdigit():\n",
    "        number+=i\n",
    "    elif number:\n",
    "        lst.append(number)\n",
    "        number=''\n",
    "        "
   ]
  },
  {
   "cell_type": "code",
   "execution_count": null,
   "metadata": {},
   "outputs": [],
   "source": [
    "#Select all the words that have w, some letter, voxel in this specific order in any part of the word. so w+anyletter+voyel"
   ]
  },
  {
   "cell_type": "code",
   "execution_count": 9,
   "metadata": {},
   "outputs": [
    {
     "name": "stdout",
     "output_type": "stream",
     "text": [
      "would\n",
      "what's\n",
      "awwejoif\n"
     ]
    }
   ],
   "source": [
    "txt = \"In the begining of 2020 nobody would expect what's gonna happen next. awwejoif\"\n",
    "vowels='aeiouy' #word=kenw\n",
    "words=[i for i in txt.split() if 'w' in i] #word=what\n",
    "for w in words:                            #i=0\n",
    "    i=w.index('w')                         #if 4>=2 and a in vowels:\n",
    "    if len(w)>=i+2 and w[i+2] in vowels:   #print\n",
    "        print(w)\n",
    "        "
   ]
  }
 ],
 "metadata": {
  "kernelspec": {
   "display_name": "Python 3",
   "language": "python",
   "name": "python3"
  },
  "language_info": {
   "codemirror_mode": {
    "name": "ipython",
    "version": 3
   },
   "file_extension": ".py",
   "mimetype": "text/x-python",
   "name": "python",
   "nbconvert_exporter": "python",
   "pygments_lexer": "ipython3",
   "version": "3.8.5"
  }
 },
 "nbformat": 4,
 "nbformat_minor": 4
}
